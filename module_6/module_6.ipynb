{
 "cells": [
  {
   "cell_type": "code",
   "execution_count": 3,
   "id": "3665d6a0-e42d-4b29-b8d4-9c827648d924",
   "metadata": {},
   "outputs": [
    {
     "name": "stdout",
     "output_type": "stream",
     "text": [
      "{'name': 'Bingo', 'colour': 'white', 'age': 5, 'breed': 'Labrador', 'legs': 4}\n"
     ]
    }
   ],
   "source": [
    "\"\"\"\n",
    "1.Create an empty dictionary called dog\n",
    "2.Add name, color, breed, legs, age to the dog dictionary\n",
    "\"\"\"\n",
    "dog = {}\n",
    "dog[\"name\"] = \"Bingo\"\n",
    "dog[\"colour\"] = \"white\"\n",
    "dog[\"age\"] = 5\n",
    "dog[\"breed\"] = \"Labrador\"\n",
    "dog[\"legs\"] = 4\n",
    "print(dog)"
   ]
  },
  {
   "cell_type": "code",
   "execution_count": 37,
   "id": "b9956132-21e5-4495-837a-ea07acec269e",
   "metadata": {},
   "outputs": [
    {
     "name": "stdout",
     "output_type": "stream",
     "text": [
      "{'first_name': 'Aisha', 'last_name': 'Hamzah', 'gender': 'female', 'age': 12, 'marital_status': 'single', 'skills': 'craft', 'country': 'niigeria', 'city': 'ilorin', 'adress': 'royal site'}\n"
     ]
    },
    {
     "data": {
      "text/plain": [
       "dict_values(['Aisha', 'Hamzah', 'female', 12, 'single', 'craft', 'niigeria', 'ilorin', 'royal site'])"
      ]
     },
     "execution_count": 37,
     "metadata": {},
     "output_type": "execute_result"
    }
   ],
   "source": [
    "\"\"\"\n",
    "Add name, color, breed, legs, age to the dog dictionar\n",
    "\"\"\"\n",
    "student = {\"first_name\": \"Aisha\", \n",
    "           \"last_name\": \"Hamzah\", \n",
    "           \"gender\": \"female\", \n",
    "           \"age\": 12,\n",
    "           \"marital_status\": \"single\", \n",
    "           \"skills\": \"craft\", \n",
    "           \"country\": \"niigeria\", \n",
    "           \"city\": \"ilorin\", \n",
    "           \"adress\": \"royal site\"}\n",
    "print(student)\n",
    "len(student)\n",
    "student.values()"
   ]
  },
  {
   "cell_type": "code",
   "execution_count": 41,
   "id": "d2c4022d-6ba3-422b-b250-df6fa1f7ebaa",
   "metadata": {},
   "outputs": [
    {
     "name": "stdout",
     "output_type": "stream",
     "text": [
      "Skills: craft\n",
      "<class 'str'>\n"
     ]
    }
   ],
   "source": [
    "skills = student[\"skills\"]\n",
    "print(\"Skills:\", skills)\n",
    "print( type(skills))"
   ]
  },
  {
   "cell_type": "code",
   "execution_count": null,
   "id": "e2d6b0d5-6895-48c5-a27f-c56bca1b48bb",
   "metadata": {},
   "outputs": [],
   "source": [
    "\"\"\"\n",
    "Modify the skills values by adding one or two skills\n",
    "\"\"\"\n",
    "\n",
    "student[\"skills\"].append(\"Machine Learning\")\n",
    "student[\"skills\"].append(\"Web Development\")\n",
    "print(\"Updated skills:\", student[\"skills\"])\n"
   ]
  },
  {
   "cell_type": "code",
   "execution_count": null,
   "id": "d6679998-40a4-4a1c-89e3-0bc59e96ccef",
   "metadata": {},
   "outputs": [],
   "source": [
    "\"\"\"\n",
    "Get the dictionary keys as a list\n",
    "\"\"\"\n",
    "keys = list(student.keys())\n",
    "print(\"Dictionary keys:\", keys)\n"
   ]
  },
  {
   "cell_type": "code",
   "execution_count": null,
   "id": "88f3ac7a-bb04-44ef-bbc2-b7b989665961",
   "metadata": {},
   "outputs": [],
   "source": [
    "\"\"\"\n",
    "Get the dictionary values as a list\n",
    "\"\"\"\n",
    "values = list(student.values())\n",
    "print(\"Dictionary values:\", values)\n"
   ]
  },
  {
   "cell_type": "code",
   "execution_count": null,
   "id": "2211beeb-6dca-41af-81e4-3e3d57ca2381",
   "metadata": {},
   "outputs": [],
   "source": [
    "\"\"\"\n",
    "Change the dictionary to a list of tuples using items() method\n",
    "\"\"\"\n",
    "dict_as_tuples = list(student.items())\n",
    "print(\"Dictionary as list of tuples:\", dict_as_tuples)\n"
   ]
  },
  {
   "cell_type": "code",
   "execution_count": 43,
   "id": "43fdacd9-8224-49e9-902e-50dbbb2c98e9",
   "metadata": {},
   "outputs": [
    {
     "name": "stdout",
     "output_type": "stream",
     "text": [
      "Dictionary after deleting 'age': {'first_name': 'Aisha', 'last_name': 'Hamzah', 'gender': 'female', 'marital_status': 'single', 'skills': 'craft', 'country': 'niigeria', 'city': 'ilorin', 'adress': 'royal site'}\n",
      "The student dictionary has been deleted.\n"
     ]
    }
   ],
   "source": [
    "\"\"\"\n",
    "Delete one of the items in the dictionary\n",
    "Delete one of the dictionaries\n",
    "\"\"\"\n",
    "del student[\"age\"]\n",
    "print(\"Dictionary after deleting 'age':\", student)\n",
    "\n",
    "del student\n",
    "print(\"The student dictionary has been deleted.\")\n"
   ]
  },
  {
   "cell_type": "code",
   "execution_count": null,
   "id": "42d2e02d-6ea3-4cb0-973b-815c55897848",
   "metadata": {},
   "outputs": [],
   "source": []
  }
 ],
 "metadata": {
  "kernelspec": {
   "display_name": "Python 3 (ipykernel)",
   "language": "python",
   "name": "python3"
  },
  "language_info": {
   "codemirror_mode": {
    "name": "ipython",
    "version": 3
   },
   "file_extension": ".py",
   "mimetype": "text/x-python",
   "name": "python",
   "nbconvert_exporter": "python",
   "pygments_lexer": "ipython3",
   "version": "3.11.7"
  }
 },
 "nbformat": 4,
 "nbformat_minor": 5
}
