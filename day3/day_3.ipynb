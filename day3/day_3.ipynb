{
 "cells": [
  {
   "cell_type": "code",
   "execution_count": null,
   "id": "83d4669d-1842-45b2-b0a4-83b315e31f3d",
   "metadata": {},
   "outputs": [],
   "source": [
    "\"\"\"\n",
    "    Declare your age as integer variable\n",
    "    Declare your height as a float variable\n",
    "    Declare a variable that store a complex number\n",
    "\n",
    "\"\"\"\n",
    "\n",
    "\n",
    "age = 22\n",
    "height = 12\n",
    "complex = 4 + 5j\n",
    "print(\"--*15\")"
   ]
  },
  {
   "cell_type": "code",
   "execution_count": null,
   "id": "07ca2e3f-9533-4d85-85ae-f0da088a1f9c",
   "metadata": {},
   "outputs": [],
   "source": [
    "\"\"\"\n",
    "    Write a script that prompts the user to enter base and height of the triangle and calculate an area of this triangle (area = 0.5 x b x h).\n",
    "\"\"\"\n",
    "print(\"let's calculate the area of triangle...\")\n",
    "#change the input to decimal should a user enter a decimal number\n",
    "base = float(input(\"what is the base of the triangle?\"))\n",
    "height = float(input(\"What is the height of the triangle\"))\n",
    "area = 0.5*base*height\n",
    "print(f\"the are of the triangle is: {area}\")\n"
   ]
  },
  {
   "cell_type": "code",
   "execution_count": null,
   "id": "ae5b33a1-69fc-43d4-b176-e04276780b2e",
   "metadata": {},
   "outputs": [],
   "source": [
    "\"\"\"\n",
    "    Write a script that prompts the user to enter side a, side b, and side c of the triangle. Calculate the perimeter of the triangle (perimeter = a + b + c).\n",
    "\"\"\"\n",
    "side_a = float(input(\"Enter thhe value of side a\"))\n",
    "side_b = float(input(\"Enter thhe value of side b\"))\n",
    "side_c = float(input(\"Enter thhe value of side c\"))\n",
    "perimeter = side_a + side_b + side_c\n",
    "print(f\"{perimeter} is the perimeter\")"
   ]
  },
  {
   "cell_type": "code",
   "execution_count": null,
   "id": "3e33a4d0-102b-4714-8a91-e824e7bc16ea",
   "metadata": {},
   "outputs": [],
   "source": [
    "print(\"let's calculate the area of rectangle...\")\n",
    "#change the input to decimal should a user enter a decimal number\n",
    "length = float(input(\"what is the length of the rectangle?\"))\n",
    "width = float(input(\"What is the widt of the  rectangle?\"))\n",
    "area = length * width\n",
    "perimeter = 2*(length*width)\n",
    "print(f\"the are of the  rectangle is: {area} and\")\n",
    "print(f\"{perimeter} is the perimeter\")"
   ]
  },
  {
   "cell_type": "code",
   "execution_count": null,
   "id": "12454772-d8a2-4055-b8c9-63e3200df9dc",
   "metadata": {},
   "outputs": [],
   "source": [
    "\"\"\"\n",
    "    Get radius of a circle using prompt. Calculate the area (area = pi x r x r) and circumference (c = 2 x pi x r) where pi = 3.14.\n",
    "\"\"\"\n",
    "radius = float(input(\"what is the radius of the circle?\"))\n",
    "pi = 3.14\n",
    "circumfrence = 2*pi*radius\n",
    "area = pi*radius**2"
   ]
  },
  {
   "cell_type": "code",
   "execution_count": 11,
   "id": "960a87a1-d36a-4b27-8b7c-f939ed1c49f7",
   "metadata": {},
   "outputs": [
    {
     "name": "stdout",
     "output_type": "stream",
     "text": [
      "2\n",
      "1\n",
      "-2\n"
     ]
    }
   ],
   "source": [
    "\"\"\"\n",
    "    Calculate the slope, x-intercept and y-intercept of y = 2x -2\n",
    "\"\"\"\n",
    "slope_m = 2\n",
    "x_intercept = (0 + 2)//2 #when y = 0\n",
    "y_intercept = 2 * 0 -2 #when x = 0\n",
    "print(slope_m)\n",
    "print(x_intercept)\n",
    "print(y_intercept)\n"
   ]
  },
  {
   "cell_type": "code",
   "execution_count": 13,
   "id": "dd86aa86-f228-4e8f-82bb-3bd7db9d7fb5",
   "metadata": {},
   "outputs": [
    {
     "data": {
      "text/plain": [
       "2"
      ]
     },
     "execution_count": 13,
     "metadata": {},
     "output_type": "execute_result"
    }
   ],
   "source": [
    "\"\"\"\n",
    "    Slope is (m = y2-y1/x2-x1). Find the slope and Euclidean distance between point (2, 2) and point (6,10)\n",
    "\"\"\"\n",
    "slope_m2 = (10 -2)/(6 - 2)\n",
    "print(f\"slope:{slope_m2}\")"
   ]
  },
  {
   "cell_type": "code",
   "execution_count": null,
   "id": "2cec9e50-0b3b-4139-973a-eb35b8760a17",
   "metadata": {},
   "outputs": [],
   "source": [
    "Compare the slopes in tasks 8 and 9."
   ]
  },
  {
   "cell_type": "code",
   "execution_count": null,
   "id": "6072ca17-a1de-481e-91af-3993f541b605",
   "metadata": {},
   "outputs": [],
   "source": [
    "\"\"\"\n",
    "    Calculate the value of y (y = x^2 + 6x + 9). Try to use different x values and figure out at what x value y is going to be 0.\n",
    "\"\"\"\n",
    "def calculate_y(x):\n",
    "    return x**2 + 6*x + 9\n",
    "\n",
    "for x in range(-5, 1):\n",
    "    y = calculate_y(x)\n",
    "    print(f\"x = {x}, y = {y}\")\n",
    "\n",
    "    if y == 0:\n",
    "        print(f\"y is 0 when x = {x}\")\n"
   ]
  },
  {
   "cell_type": "code",
   "execution_count": 7,
   "id": "e0c51140-47ce-4743-93c0-2b8e751c71d5",
   "metadata": {},
   "outputs": [
    {
     "name": "stdout",
     "output_type": "stream",
     "text": [
      "6 is not equal to 6\n",
      "Tr\n"
     ]
    }
   ],
   "source": [
    "\"\"\"\n",
    "    Find the length of 'python' and 'dragon' and make a falsy comparison statement.\n",
    "\"\"\"\n",
    "pyth = (len(\"python\"))\n",
    "drag = (len(\"dragon\"))\n",
    "print(f\"{pyth} is not equal to {drag}\")\n"
   ]
  },
  {
   "cell_type": "code",
   "execution_count": 15,
   "id": "851e39d7-618d-4d35-9f69-a98207175bc8",
   "metadata": {},
   "outputs": [
    {
     "name": "stdout",
     "output_type": "stream",
     "text": [
      "True\n"
     ]
    }
   ],
   "source": [
    "\"\"\"\n",
    "Use and operator to check if 'on' is found in both 'python' and 'dragon\n",
    "\"\"\"\n",
    "if \"on\" in \"python\" and \"on\" in \"dragon\":\n",
    "    print(\"True\")"
   ]
  },
  {
   "cell_type": "code",
   "execution_count": 23,
   "id": "3e49634f-0344-4adc-b91c-efc9c54d16bc",
   "metadata": {},
   "outputs": [
    {
     "name": "stdout",
     "output_type": "stream",
     "text": [
      "True\n"
     ]
    }
   ],
   "source": [
    "\"\"\"\n",
    "I hope this course is not full of jargon. Use in operator to check if jargon is in the sentence.\n",
    "\"\"\"\n",
    "sentence = \"I hope this course is not full of jargon.\"\n",
    "if \"jargon\" in sentence:\n",
    "    print(\"True\")"
   ]
  },
  {
   "cell_type": "code",
   "execution_count": 37,
   "id": "21db0a99-1536-4b6b-86b7-0386da8e7669",
   "metadata": {},
   "outputs": [
    {
     "name": "stdout",
     "output_type": "stream",
     "text": [
      "6.0\n",
      "6\n",
      "6\n"
     ]
    }
   ],
   "source": [
    "\"\"\"\n",
    "Find the length of the text python and convert the value to float and convert it to string\n",
    "\"\"\"\n",
    "word_length = len(\"python\")\n",
    "print(float(word_length))\n",
    "print(str(word_length))\n",
    "print(word_length)"
   ]
  },
  {
   "cell_type": "code",
   "execution_count": 41,
   "id": "0f47a6c2-3dc6-4bd2-ad02-ff249dc04d03",
   "metadata": {},
   "outputs": [
    {
     "name": "stdin",
     "output_type": "stream",
     "text": [
      "Enter hours 40\n",
      "Enter hours 28\n"
     ]
    },
    {
     "name": "stdout",
     "output_type": "stream",
     "text": [
      "1120\n"
     ]
    }
   ],
   "source": [
    "hours = int(input(\"Enter hours\"))\n",
    "rate = int(input(\"Enter hours\"))\n",
    "pay = hours * rate\n",
    "print(pay)"
   ]
  },
  {
   "cell_type": "code",
   "execution_count": 47,
   "id": "e2fca1df-0e11-4980-9a75-de4a41fe69c9",
   "metadata": {},
   "outputs": [
    {
     "name": "stdin",
     "output_type": "stream",
     "text": [
      "Enter the number of years you have lived 100\n"
     ]
    },
    {
     "name": "stdout",
     "output_type": "stream",
     "text": [
      " you have lived for 3153600000 seconds\n"
     ]
    }
   ],
   "source": [
    "years = int(input(\"Enter the number of years you have lived\"))\n",
    "secs = years * 365 * 24 * 60 * 60\n",
    "print(f\" you have lived for {secs} seconds\")"
   ]
  },
  {
   "cell_type": "code",
   "execution_count": 61,
   "id": "fa5ea247-8fcd-4079-8dbf-1f3088c469ba",
   "metadata": {},
   "outputs": [
    {
     "name": "stdout",
     "output_type": "stream",
     "text": [
      "1 1 1 1 1\n",
      "2 1 2 4 8\n",
      "3 1 3 9 27\n",
      "4 1 4 16 64\n"
     ]
    }
   ],
   "source": [
    "for x in range(1, 5):\n",
    "    print(f\"{x} 1 {x} {x**2} {x**3}\")"
   ]
  },
  {
   "cell_type": "code",
   "execution_count": null,
   "id": "c32dd62e-2337-487f-913d-e6736e098014",
   "metadata": {},
   "outputs": [],
   "source": []
  }
 ],
 "metadata": {
  "kernelspec": {
   "display_name": "Python 3 (ipykernel)",
   "language": "python",
   "name": "python3"
  },
  "language_info": {
   "codemirror_mode": {
    "name": "ipython",
    "version": 3
   },
   "file_extension": ".py",
   "mimetype": "text/x-python",
   "name": "python",
   "nbconvert_exporter": "python",
   "pygments_lexer": "ipython3",
   "version": "3.11.7"
  }
 },
 "nbformat": 4,
 "nbformat_minor": 5
}
