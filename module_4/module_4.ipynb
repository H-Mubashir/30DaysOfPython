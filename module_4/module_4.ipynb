{
 "cells": [
  {
   "cell_type": "code",
   "execution_count": null,
   "id": "65fa2741-a30e-43f9-8b73-fdbc55d17bc3",
   "metadata": {},
   "outputs": [],
   "source": [
    "\"\"\"\n",
    "    Concatenate the string 'Thirty', 'Days', 'Of', 'Python' to a single string, 'Thirty Days Of Python'.\n",
    "\"\"\"\n",
    "print(\"Thirty\" + \"Days\" + \"Of\" + \"Python\")"
   ]
  },
  {
   "cell_type": "code",
   "execution_count": null,
   "id": "3cf16dd0-ea18-4136-acee-43aac106d64a",
   "metadata": {},
   "outputs": [],
   "source": [
    "\"\"\"\n",
    "    Concatenate the string 'Coding', 'For' , 'All' to a single string, 'Coding For All'.\n",
    "\"\"\"\n",
    "print(\"coding\" + \"For\" + \"All\")"
   ]
  },
  {
   "cell_type": "code",
   "execution_count": 3,
   "id": "3def2718-1866-4b64-b466-a25cbf8a03b1",
   "metadata": {},
   "outputs": [],
   "source": [
    "\"\"\"\n",
    "Declare a variable named company and assign it to an initial value \"Coding For All\"\n",
    "\"\"\"\n",
    "company = \"Coding for all\""
   ]
  },
  {
   "cell_type": "code",
   "execution_count": null,
   "id": "cdcc10d6-8968-4a1c-982d-28e9563f20d2",
   "metadata": {},
   "outputs": [],
   "source": [
    "\"\"\"\n",
    "Print the variable company using print().\".\n",
    "\"\"\"\n",
    "print(company)"
   ]
  },
  {
   "cell_type": "code",
   "execution_count": 11,
   "id": "08c33d5d-21ac-4e73-ba46-8d49f6a34db9",
   "metadata": {},
   "outputs": [
    {
     "name": "stdout",
     "output_type": "stream",
     "text": [
      "14\n"
     ]
    }
   ],
   "source": [
    "\"\"\"\n",
    "Print the length of the company string using len() method and print().\n",
    "\"\"\"\n",
    "print(len(company))"
   ]
  },
  {
   "cell_type": "code",
   "execution_count": null,
   "id": "f49bca9f-69ed-43fd-9f4c-4e483b783e67",
   "metadata": {},
   "outputs": [],
   "source": [
    "\"\"\"\n",
    "Change all the characters to lowercase letters using lower() method.\n",
    "\"\"\"\n",
    "company.lower()"
   ]
  },
  {
   "cell_type": "code",
   "execution_count": 21,
   "id": "7733bafd-8e47-423f-b6f9-3dce1f221c23",
   "metadata": {},
   "outputs": [
    {
     "name": "stdout",
     "output_type": "stream",
     "text": [
      "Coding For All\n",
      "cODING FOR ALL\n"
     ]
    }
   ],
   "source": [
    "\"\"\"\n",
    "Use capitalize(), title(), swapcase() methods to format the value of the string Coding For All.\n",
    "\"\"\"\n",
    "print(company.title())\n",
    "print(company.swapcase())"
   ]
  },
  {
   "cell_type": "code",
   "execution_count": 22,
   "id": "c19d7a52-d293-4d34-abb7-ef3feb576cf9",
   "metadata": {},
   "outputs": [
    {
     "name": "stdout",
     "output_type": "stream",
     "text": [
      "for all\n"
     ]
    }
   ],
   "source": [
    "company = \"Coding for all\"\n",
    "first_space_index = company.find(\" \")\n",
    "result = company[first_space_index + 1:]\n",
    "print(result)"
   ]
  },
  {
   "cell_type": "code",
   "execution_count": 44,
   "id": "0f1d3296-f3bf-49bf-8f04-fb13bea52ea0",
   "metadata": {},
   "outputs": [
    {
     "name": "stdout",
     "output_type": "stream",
     "text": [
      "The word coding is found\n"
     ]
    }
   ],
   "source": [
    "\"\"\"\n",
    "Check if Coding For All string contains a word Coding using the method index, find or other methods.\n",
    "\"\"\"\n",
    "\n",
    "company = \"coding for all\"\n",
    "if \"coding\" in company:\n",
    "    print(\"The word coding is found\")\n",
    "\n",
    "\n"
   ]
  },
  {
   "cell_type": "code",
   "execution_count": 46,
   "id": "aea8bfca-f08c-4a1d-aa15-c8f7e6ed02f0",
   "metadata": {},
   "outputs": [
    {
     "name": "stdout",
     "output_type": "stream",
     "text": [
      "coding for all\n"
     ]
    }
   ],
   "source": [
    "\"\"\"\n",
    "Replace the word coding in the string 'Coding For All' to Python.\n",
    "\"\"\"\n",
    "company.replace(\"coding\", \"python\")\n",
    "print(company)"
   ]
  },
  {
   "cell_type": "code",
   "execution_count": 50,
   "id": "7f820ef6-7e0f-4f3a-a770-f07904e2b293",
   "metadata": {},
   "outputs": [
    {
     "name": "stdout",
     "output_type": "stream",
     "text": [
      "Python for every one\n"
     ]
    }
   ],
   "source": [
    "\"\"\"\n",
    "Change Python for Everyone to Python for All using the replace method or other methods.\n",
    "\"\"\"\n",
    "text = \"Python for every one\"\n",
    "text.replace(\"Python for every one\", \"Python for All\")\n",
    "print(text)"
   ]
  },
  {
   "cell_type": "code",
   "execution_count": 95,
   "id": "cdc74989-5d7e-49e4-a1ea-be19aa985e0c",
   "metadata": {},
   "outputs": [
    {
     "data": {
      "text/plain": [
       "['Coding', 'for', 'All']"
      ]
     },
     "execution_count": 95,
     "metadata": {},
     "output_type": "execute_result"
    }
   ],
   "source": [
    "\"\"\"\n",
    "Split the string 'Coding For All' using space as the separator (split()) .\n",
    "\"\"\"\n",
    "\n",
    "string = \"Coding for All \"\n",
    "string.split()"
   ]
  },
  {
   "cell_type": "code",
   "execution_count": 97,
   "id": "17a1cb54-58a2-4e34-a301-5e2479602112",
   "metadata": {},
   "outputs": [
    {
     "data": {
      "text/plain": [
       "['Fcebook', 'Google', 'Microsoft', 'Apple', 'IBM', 'Oracle', 'Amazon']"
      ]
     },
     "execution_count": 97,
     "metadata": {},
     "output_type": "execute_result"
    }
   ],
   "source": [
    "\"\"\"\n",
    "\"Facebook, Google, Microsoft, Apple, IBM, Oracle, Amazon\" split the string at the comma.\n",
    "\"\"\"\n",
    "string_2 = \"Fcebook, Google, Microsoft, Apple, IBM, Oracle, Amazon\"\n",
    "string_2.split(\", \")"
   ]
  },
  {
   "cell_type": "code",
   "execution_count": 103,
   "id": "f88fa389-6402-4530-862e-477feb52a06c",
   "metadata": {},
   "outputs": [
    {
     "name": "stdout",
     "output_type": "stream",
     "text": [
      "0\n"
     ]
    }
   ],
   "source": [
    "char_index = \"Coding for All\"\n",
    "print(char_index.index(\"Coding for All\"))"
   ]
  },
  {
   "cell_type": "code",
   "execution_count": 105,
   "id": "fbf70d3a-30ef-4345-80c3-8d0824cd84d0",
   "metadata": {},
   "outputs": [
    {
     "name": "stdout",
     "output_type": "stream",
     "text": [
      "Last index: 13\n"
     ]
    }
   ],
   "source": [
    "\"\"\"\n",
    "What is the last index of the string Coding For All.\n",
    "\"\"\"\n",
    "\n",
    "text = \"Coding For All\"\n",
    "last_index = len(text) - 1\n",
    "print(\"Last index:\", last_index)\n"
   ]
  },
  {
   "cell_type": "code",
   "execution_count": null,
   "id": "b2cd0d80-b85e-4b87-9b15-622f16cfc998",
   "metadata": {},
   "outputs": [],
   "source": [
    "\"\"\"\n",
    "What character is at index 10 in \"Coding For All\" string.\n",
    "\"\"\"\n",
    "text = \"Coding For All\"\n",
    "at_index_10 = text[10]\n",
    "print(\"Character at index 10:\", char_at_index_10)\n"
   ]
  },
  {
   "cell_type": "code",
   "execution_count": 107,
   "id": "971961f4-59d0-4727-8e0f-3e457fed295e",
   "metadata": {},
   "outputs": [
    {
     "name": "stdout",
     "output_type": "stream",
     "text": [
      "Acronym: PFE\n"
     ]
    }
   ],
   "source": [
    "\"\"\"\n",
    "Create an acronym or an abbreviation for the name 'Python For Everyone'.\n",
    "\"\"\"\n",
    "text = \"Python For Everyone\"\n",
    "acronym = \"\".join([word[0] for word in text.split()])\n",
    "print(\"Acronym:\", acronym)\n"
   ]
  },
  {
   "cell_type": "code",
   "execution_count": 113,
   "id": "87f07895-e864-45da-a40e-f5364a58f995",
   "metadata": {},
   "outputs": [
    {
     "name": "stdout",
     "output_type": "stream",
     "text": [
      "Acronym: Cfa\n"
     ]
    }
   ],
   "source": [
    "text_2 = \"codding for all\"\n",
    "acronym = \"\".join([word[0] for word in text_2.split()]).title()\n",
    "print(\"Acronym:\", acronym.title())"
   ]
  },
  {
   "cell_type": "code",
   "execution_count": null,
   "id": "dc801a2a-07c3-4a28-b8fe-5d11c85dff6e",
   "metadata": {},
   "outputs": [],
   "source": [
    "\"\"\"\n",
    "Use index to determine the position of the first occurrence of C in Coding For All.\n",
    "\"\"\"\n",
    "text_3 = \"Coding For All\"\n",
    "first_C = text.index(\"C\")\n",
    "print(\"First occurrence of 'C':\", first_C)\n"
   ]
  },
  {
   "cell_type": "code",
   "execution_count": null,
   "id": "8c593251-2876-42a8-8448-0f713b1747b7",
   "metadata": {},
   "outputs": [],
   "source": [
    "\"\"\"\n",
    "Use index to determine the position of the first occurrence of F in Coding For All.\n",
    "\"\"\"\n",
    "text_4 = \"Coding For All\"\n",
    "first_F = text.index(\"F\")\n",
    "print(\"First occurrence of 'F':\", first_F)\n"
   ]
  },
  {
   "cell_type": "code",
   "execution_count": null,
   "id": "2408fa4e-ed6b-437c-aa78-1cc0fd3ec4bc",
   "metadata": {},
   "outputs": [],
   "source": [
    "\"\"\"\n",
    "Use rfind to determine the position of the last occurrence of l in Coding For All People.\n",
    "\"\"\"\n",
    "text_5 = \"Coding For All People\"\n",
    "last_l = text.rfind(\"l\")\n",
    "print(\"Last occurrence of 'l':\", last_l)\n"
   ]
  },
  {
   "cell_type": "code",
   "execution_count": 125,
   "id": "c9df9d85-0016-4330-9e9d-19ae7a9d6d1e",
   "metadata": {},
   "outputs": [
    {
     "name": "stdout",
     "output_type": "stream",
     "text": [
      "first occurance of because: 31\n"
     ]
    }
   ],
   "source": [
    "\"\"\"\n",
    "Use index or find to find the position of the first occurrence of the word 'because' in the following sentence: 'You cannot end a sentence with because because because is a conjunction'\n",
    "\"\"\"\n",
    "text_6 = \"you cannot end a sentence with because because because is a conjuction\"\n",
    "first_because = text_6.index(\"because\")\n",
    "print(\"first occurance of because:\", first_because)"
   ]
  },
  {
   "cell_type": "code",
   "execution_count": 127,
   "id": "40b7abee-7900-488a-a2a8-e3772e157d43",
   "metadata": {},
   "outputs": [
    {
     "name": "stdout",
     "output_type": "stream",
     "text": [
      "Last occurrence of because: 47\n"
     ]
    }
   ],
   "source": [
    "\"\"\"\n",
    "Use rindex to find the position of the last occurrence of the word because in the following sentence: 'You cannot end a sentence with because because because is a conjunction'\n",
    "\"\"\"\n",
    "last_because = text_6.rfind(\"because\")\n",
    "print(\"Last occurrence of because:\", last_because)"
   ]
  },
  {
   "cell_type": "code",
   "execution_count": 135,
   "id": "1ef73b18-e2bc-4b79-96cc-f8367bec7b1c",
   "metadata": {},
   "outputs": [
    {
     "name": "stdout",
     "output_type": "stream",
     "text": [
      "You cannot end a sentence with  is a conjunction\n"
     ]
    }
   ],
   "source": [
    "\"\"\"\n",
    "Slice out the phrase 'because because because' in the following sentence: 'You cannot end a sentence with because because because is a conjunction'\n",
    "\"\"\"\n",
    "sentence = 'You cannot end a sentence with because because because is a conjunction'\n",
    "\n",
    "start_index = sentence.find(\"because because because\")\n",
    "end_index = start_index + len(\"because because because\")\n",
    "\n",
    "result = sentence[:start_index] + sentence[end_index:]\n",
    "\n",
    "print(result)\n"
   ]
  },
  {
   "cell_type": "code",
   "execution_count": 141,
   "id": "ac69e6c2-370f-4387-ad5a-03a3446517d9",
   "metadata": {},
   "outputs": [
    {
     "name": "stdout",
     "output_type": "stream",
     "text": [
      "True\n"
     ]
    }
   ],
   "source": [
    "\"\"\"\n",
    "Does ''Coding For All' start with a substring Coding?\n",
    "\"\"\"\n",
    "string = \"Coding For All\"\n",
    "print(string.startswith(\"Coding\"))\n"
   ]
  },
  {
   "cell_type": "code",
   "execution_count": 139,
   "id": "9ae40079-327d-4275-b2a8-f6424a52c730",
   "metadata": {},
   "outputs": [
    {
     "name": "stdout",
     "output_type": "stream",
     "text": [
      "False\n"
     ]
    }
   ],
   "source": [
    "\"\"\"\n",
    "'Does Coding For All' end with a substring Coding?'\n",
    "\"\"\"\n",
    "string = \"Coding For All\"\n",
    "print(string.endswith(\"Coding\"))"
   ]
  },
  {
   "cell_type": "code",
   "execution_count": 143,
   "id": "a7d521ea-bf11-43c6-a072-ddca823b7fc8",
   "metadata": {},
   "outputs": [
    {
     "data": {
      "text/plain": [
       "'Coding For All'"
      ]
     },
     "execution_count": 143,
     "metadata": {},
     "output_type": "execute_result"
    }
   ],
   "source": [
    "\"\"\"\n",
    "'   Coding For All      '  , remove the left and right trailing spaces in the given string.\n",
    "\"\"\"\n",
    "sentence_2 = \"   Coding For All      \"\n",
    "sentence_2.strip()"
   ]
  },
  {
   "cell_type": "code",
   "execution_count": null,
   "id": "a9112bdb-6473-448c-bc73-e99099a528e7",
   "metadata": {},
   "outputs": [],
   "source": [
    "\"\"\"\n",
    "Which one of the following variables return True when we use the method isidentifier():\n",
    "30DaysOfPython\n",
    "thirty_days_of_python\n",
    "\"\"\"\n",
    "var1 = \"30DaysOfPython\"\n",
    "var2 = \"thirty_days_of_python\"\n",
    "\n",
    "print(var1.isidentifier())\n",
    "print(var2.isidentifier())  \n"
   ]
  },
  {
   "cell_type": "code",
   "execution_count": 151,
   "id": "596bf0fa-cdab-4f5f-8c04-c917814c5537",
   "metadata": {},
   "outputs": [
    {
     "name": "stdout",
     "output_type": "stream",
     "text": [
      "Django #Flask #Bottle #Pyramid #Falcon\n"
     ]
    }
   ],
   "source": [
    "\"\"\"\n",
    "The following list contains the names of some of python libraries: ['Django', 'Flask', 'Bottle', 'Pyramid', 'Falcon']. Join the list with a hash with space string.\n",
    "\"\"\"\n",
    "\n",
    "libraries = [\"Django\", \"Flask\", \"Bottle\", \"Pyramid\", \"Falcon\"]\n",
    "result = \" #\" .join(libraries)\n",
    "print(result)\n"
   ]
  },
  {
   "cell_type": "code",
   "execution_count": null,
   "id": "a61ede4d-fa61-446b-abe3-bcf82653767e",
   "metadata": {},
   "outputs": [],
   "source": [
    "\"\"\"\n",
    "Use the new line escape sequence to separate the following sentences.\n",
    "I am enjoying this challenge.\n",
    "I just wonder what is next.\n",
    "\"\"\"\n",
    "sentence1 = \"I am enjoying this challenge.\"\n",
    "sentence2 = \"I just wonder what is next.\"\n",
    "result = sentence1 + '\\n' + sentence2\n",
    "print(result)\n"
   ]
  },
  {
   "cell_type": "code",
   "execution_count": 153,
   "id": "632eeed2-7592-4a15-84ed-435442f42c8b",
   "metadata": {},
   "outputs": [
    {
     "name": "stdout",
     "output_type": "stream",
     "text": [
      "Name\t\tAge\tCountry\tCity\n",
      "Asabeneh\t250\tFinland\tHelsinki\n"
     ]
    }
   ],
   "source": [
    "\"\"\"\n",
    "Use a tab escape sequence to write the following lines.\n",
    "Name      Age     Country   City\n",
    "Asabeneh  250     Finland   Helsinki\n",
    "\"\"\"\n",
    "print(\"Name\\t\\tAge\\tCountry\\tCity\")\n",
    "print(\"Asabeneh\\t250\\tFinland\\tHelsinki\")\n"
   ]
  },
  {
   "cell_type": "code",
   "execution_count": 155,
   "id": "23000bdb-5fd8-40c5-8831-2fa76d567d38",
   "metadata": {},
   "outputs": [
    {
     "name": "stdout",
     "output_type": "stream",
     "text": [
      "8 + 6 = 14\n",
      "8 - 6 = 2\n",
      "8 * 6 = 48\n",
      "8 / 6 = 1.33\n",
      "8 % 6 = 2\n",
      "8 // 6 = 1\n",
      "8 ** 6 = 262144\n"
     ]
    }
   ],
   "source": [
    "a = 8\n",
    "b = 6\n",
    "\n",
    "print(f\"{a} + {b} = {a + b}\")\n",
    "print(f\"{a} - {b} = {a - b}\")\n",
    "print(f\"{a} * {b} = {a * b}\")\n",
    "print(f\"{a} / {b} = {a / b:.2f}\")\n",
    "print(f\"{a} % {b} = {a % b}\")\n",
    "print(f\"{a} // {b} = {a // b}\")\n",
    "print(f\"{a} ** {b} = {a ** b}\")\n"
   ]
  },
  {
   "cell_type": "code",
   "execution_count": null,
   "id": "908c9dc5-56d3-449c-b52f-7657178689ed",
   "metadata": {},
   "outputs": [],
   "source": []
  },
  {
   "cell_type": "code",
   "execution_count": null,
   "id": "44cac005-7452-40d7-8808-afe6af8899e3",
   "metadata": {},
   "outputs": [],
   "source": [
    "|"
   ]
  }
 ],
 "metadata": {
  "kernelspec": {
   "display_name": "Python 3 (ipykernel)",
   "language": "python",
   "name": "python3"
  },
  "language_info": {
   "codemirror_mode": {
    "name": "ipython",
    "version": 3
   },
   "file_extension": ".py",
   "mimetype": "text/x-python",
   "name": "python",
   "nbconvert_exporter": "python",
   "pygments_lexer": "ipython3",
   "version": "3.11.7"
  }
 },
 "nbformat": 4,
 "nbformat_minor": 5
}
