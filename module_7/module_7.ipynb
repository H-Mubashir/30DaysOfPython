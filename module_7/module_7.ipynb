{
 "cells": [
  {
   "cell_type": "code",
   "execution_count": 9,
   "id": "c0744239-1bb1-47c1-aece-eec850e1e06c",
   "metadata": {},
   "outputs": [
    {
     "name": "stdin",
     "output_type": "stream",
     "text": [
      "Enter your age 23\n"
     ]
    },
    {
     "name": "stdout",
     "output_type": "stream",
     "text": [
      "You are old enoough to learn to drive\n"
     ]
    }
   ],
   "source": [
    "\"\"\"\n",
    "Get user input using input(“Enter your age: ”). If user is 18 or older, give feedback: You are old enough to drive. If below 18 give feedback to wait for the missing amount of years. Output:\n",
    "\"\"\"\n",
    "\n",
    "drive_age = 18\n",
    "while True:\n",
    "    age = int(input(\"Enter your age\"))\n",
    "    if age >= 18:\n",
    "        print(\"You are old enoough to learn to drive\")\n",
    "    elif age < 18:\n",
    "        print(f\"You need {drive_age - age} years to learn\")\n",
    "    break\n"
   ]
  },
  {
   "cell_type": "code",
   "execution_count": 11,
   "id": "941a503b-a6ca-4ded-bd7c-b55b45614020",
   "metadata": {},
   "outputs": [
    {
     "name": "stdin",
     "output_type": "stream",
     "text": [
      "Enter your age 23\n",
      "Enter your age 56\n"
     ]
    },
    {
     "name": "stdout",
     "output_type": "stream",
     "text": [
      "you are 33 years greater than me\n"
     ]
    }
   ],
   "source": [
    "\"\"\"\n",
    "Compare the values of my_age and your_age using if … else. Who is older (me or you)? Use input(“Enter your age: ”) to get the age as input. You can use a nested condition to print 'year' for 1 year difference in age, 'years' for bigger differences, and a custom text if my_age = your_age. Output:\n",
    "\"\"\"\n",
    "my_age = int(input(\"Enter your age\"))\n",
    "your_age =  int(input(\"Enter your age\"))\n",
    "if my_age == your_age:\n",
    "    print(\"my we are age mate\")\n",
    "elif my_age > your_age:\n",
    "    print(f\"I am {my_age - your_age} years older than you\")\n",
    "elif my_age < your_age:\n",
    "    print(f\"you are {your_age - my_age} years greater than me\")\n"
   ]
  },
  {
   "cell_type": "code",
   "execution_count": 15,
   "id": "a7b3c571-e465-4611-9b79-2053d96bde33",
   "metadata": {},
   "outputs": [
    {
     "name": "stdin",
     "output_type": "stream",
     "text": [
      "Enter the number 45\n",
      "enter the second number 67\n"
     ]
    },
    {
     "name": "stdout",
     "output_type": "stream",
     "text": [
      "45 is smaller than 67\n"
     ]
    }
   ],
   "source": [
    "\"\"\"\n",
    "Get two numbers from the user using input prompt. If a is greater than b return a is greater than b, if a is less b return a is smaller than b, else a is equal to b. Output:\n",
    "\"\"\"\n",
    "num_1 = int(input(\"Enter the number\"))\n",
    "num_2 = int(input(\"enter the second number\"))\n",
    "\n",
    "if num_1 > num_2:\n",
    "    print(f\"{num_1} is greater than {num_2}\")\n",
    "elif num_1 < num_2:\n",
    "    print(f\"{num_1} is smaller than {num_2}\")\n",
    "else:\n",
    "    print(f\"{num_1} is equal to {num_2}\")"
   ]
  },
  {
   "cell_type": "code",
   "execution_count": null,
   "id": "4526cfc0-4c2d-46b0-b846-b46660bf225a",
   "metadata": {},
   "outputs": [],
   "source": [
    "\"\"\"\n",
    "Write a code which gives grade to students according to theirs scores:\n",
    "\n",
    "80-100, A\n",
    "70-89, B\n",
    "60-69, C\n",
    "50-59, D\n",
    "0-49, F\n",
    "\"\"\"\n",
    "score = int(input(\"Enter the student's score: \"))\n",
    "if 80 <= score <= 100:\n",
    "    print(\"Grade: A\")\n",
    "elif 70 <= score <= 79:\n",
    "    print(\"Grade: B\")\n",
    "elif 60 <= score <= 69:\n",
    "    print(\"Grade: C\")\n",
    "elif 50 <= score <= 59:\n",
    "    print(\"Grade: D\")\n",
    "elif 0 <= score <= 49:\n",
    "    print(\"Grade: F\")\n",
    "else:\n",
    "    print(\"Invalid score. Please enter a number between 0 and 100.\")\n"
   ]
  },
  {
   "cell_type": "code",
   "execution_count": 21,
   "id": "01a34334-7d1c-4be3-bb58-383f88d0c531",
   "metadata": {},
   "outputs": [
    {
     "name": "stdin",
     "output_type": "stream",
     "text": [
      "Enter the name of the month:  July\n"
     ]
    },
    {
     "name": "stdout",
     "output_type": "stream",
     "text": [
      "The season is Summer.\n"
     ]
    }
   ],
   "source": [
    "\n",
    "month = input(\"Enter the name of the month: \").strip().capitalize()\n",
    "Autum = [\"September\", \"October\", \"November\"]\n",
    "Winter = [\"December\", \"January\", \"February\"]\n",
    "Spring = [\"March\", \"April\", \"May\"]\n",
    "Summer = [\"June\", \"July\", \"August\"]\n",
    "if month in Autum:\n",
    "    print(\"The season is Autumn.\")\n",
    "elif month in Winter:\n",
    "    print(\"The season is Winter.\")\n",
    "elif month in Spring:\n",
    "    print(\"The season is Spring.\")\n",
    "elif month in Summer:\n",
    "    print(\"The season is Summer.\")\n",
    "else:\n",
    "    print(\"Invalid month name. Please enter a valid month.\")\n"
   ]
  },
  {
   "cell_type": "code",
   "execution_count": 23,
   "id": "e0552d6a-fe61-4147-a5a3-8cd1dd1b7cd4",
   "metadata": {},
   "outputs": [
    {
     "name": "stdout",
     "output_type": "stream",
     "text": [
      "The middle skill is: Node\n",
      "Does the person have 'Python' skill? True\n",
      "He is a backend developer\n"
     ]
    },
    {
     "data": {
      "text/plain": [
       "'\\nPrint the information if the person is married and lives in Finland\\n'"
      ]
     },
     "execution_count": 23,
     "metadata": {},
     "output_type": "execute_result"
    }
   ],
   "source": [
    "person = {\n",
    "    'first_name': 'Asabeneh',\n",
    "    'last_name': 'Yetayeh',\n",
    "    'age': 250,\n",
    "    'country': 'Finland',\n",
    "    'is_marred': True,\n",
    "    'skills': ['JavaScript', 'React', 'Node', 'MongoDB', 'Python'],\n",
    "    'address': {\n",
    "        'street': 'Space street',\n",
    "        'zipcode': '02210'\n",
    "    }\n",
    "}\n",
    "\n",
    "\"\"\"\n",
    "Check if the person dictionary has 'skills' key and print the middle skill\n",
    "\"\"\"\n",
    "if \"skills\" in person:\n",
    "    skills = person['skills']\n",
    "    middle_skill = skills[len(skills) // 2]\n",
    "    print(\"The middle skill is:\", middle_skill)\n",
    "\n",
    "\"\"\"\n",
    "Check if the person has \"Pytho\" skill\n",
    "\"\"\"\n",
    "if \"skills\" in person:\n",
    "    has_python = \"Python\" in person[\"skills\"]\n",
    "    print(\"Does the person have 'Python' skill?\", has_python)\n",
    "\n",
    "\"\"\"\n",
    "Determine the person's role based on their skills\n",
    "\"\"\"\n",
    "if \"skills\" in person:\n",
    "    skills_set = set(person['skills'])\n",
    "    if skills_set == {'JavaScript', 'React'}:\n",
    "        print(\"He is a front end developer\")\n",
    "    elif skills_set >= {'Node', 'Python', 'MongoDB'}:\n",
    "        print(\"He is a backend developer\")\n",
    "    elif skills_set >= {'React', 'Node', 'MongoDB'}:\n",
    "        print(\"He is a fullstack developer\")\n",
    "    else:\n",
    "        print(\"Unknown title\")\n",
    "\n",
    "\"\"\"\n",
    "Print the information if the person is married and lives in Finland\n",
    "\"\"\""
   ]
  },
  {
   "cell_type": "code",
   "execution_count": null,
   "id": "f4e890de-e543-4b08-9073-19d28bd9cce8",
   "metadata": {},
   "outputs": [],
   "source": []
  }
 ],
 "metadata": {
  "kernelspec": {
   "display_name": "Python 3 (ipykernel)",
   "language": "python",
   "name": "python3"
  },
  "language_info": {
   "codemirror_mode": {
    "name": "ipython",
    "version": 3
   },
   "file_extension": ".py",
   "mimetype": "text/x-python",
   "name": "python",
   "nbconvert_exporter": "python",
   "pygments_lexer": "ipython3",
   "version": "3.11.7"
  }
 },
 "nbformat": 4,
 "nbformat_minor": 5
}
